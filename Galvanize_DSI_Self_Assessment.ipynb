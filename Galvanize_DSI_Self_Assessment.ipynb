{
 "cells": [
  {
   "cell_type": "markdown",
   "metadata": {
    "button": false,
    "new_sheet": false,
    "run_control": {
     "read_only": false
    }
   },
   "source": [
    "# Galvanize DSI Self Assessment v3.0"
   ]
  },
  {
   "cell_type": "markdown",
   "metadata": {
    "button": false,
    "new_sheet": false,
    "run_control": {
     "read_only": false
    }
   },
   "source": [
    "* This document is a non-exhaustive study guide for applicants to the Galvanize Data Science Immersive (DSI). It is meant to help prepare you for the Technical Interview. \n",
    "* You may have been asked to complete the problems below in order to continue your application to the DSI. If this is the case, you will attach the completed notebook in an email to your Enrollment Officer. Once your work is graded, you will receive a link to book your next Technical Interview.\n",
    "* Completion of this document is not mandatory if you have not been asked to do so. However, you are expected to be able to perform all problem topics within this document in the Technical Interview to the Galvanize DSI. \n",
    "* This document is not exhaustive in terms of the skills you should be developing prior to starting the DSI. Though not covered in this document or in the Technical Interview, you will want to develop your understanding of:\n",
    "    * SQL\n",
    "    * Hypothesis Testing for One and Two samples\n",
    "    * Basic Linear Algebra\n",
    "* Questions may be directed to: admissions@galvanize.com"
   ]
  },
  {
   "cell_type": "markdown",
   "metadata": {
    "button": false,
    "new_sheet": false,
    "run_control": {
     "read_only": false
    }
   },
   "source": [
    "<hr>\n",
    "\n",
    "<hr>\n",
    "\n",
    "## Contents\n",
    "* Section A: Python\n",
    "    * SA:Q1: Functions and For Loops\n",
    "    * SA:Q2: More Functions\n",
    "    * SA:Q3: Dictionaries and Strings\n",
    "* Section B: Probability and Statistics\n",
    "    * SB:Q1: Descriptive Statistics\n",
    "    * SB:Q2: Probability and Bayes Theorem\n",
    "    * SB:Q3: Probability Distributions\n"
   ]
  },
  {
   "cell_type": "markdown",
   "metadata": {
    "button": false,
    "new_sheet": false,
    "run_control": {
     "read_only": false
    }
   },
   "source": [
    "<hr>\n",
    "\n",
    "<hr>\n",
    "\n",
    "<hr>\n",
    "\n",
    "\n",
    "\n",
    "# Section A: Python\n",
    "* complete each problem below according to the instructions"
   ]
  },
  {
   "cell_type": "markdown",
   "metadata": {
    "button": false,
    "new_sheet": false,
    "run_control": {
     "read_only": false
    }
   },
   "source": [
    "<hr>\n",
    "\n",
    "<hr>\n",
    "\n",
    "### SA:Q1 Functions and For Loops\n",
    "* In general, you want to write code that atomizes and encapsulates procedures within functions. In the problems below, you will write a procedure without a function, and then encapsulate that same procedure within a function. "
   ]
  },
  {
   "cell_type": "markdown",
   "metadata": {
    "button": false,
    "new_sheet": false,
    "run_control": {
     "read_only": false
    }
   },
   "source": [
    "<hr>\n",
    "\n",
    "#### a. Write a for loop that sums the numbers in `list_num`\n",
    "* Print the output once the for loop is completed\n",
    "    * expected result: `219`"
   ]
  },
  {
   "cell_type": "code",
   "execution_count": 1,
   "metadata": {
    "button": false,
    "new_sheet": false,
    "run_control": {
     "read_only": false
    }
   },
   "outputs": [
    {
     "name": "stdout",
     "output_type": "stream",
     "text": [
      "219\n"
     ]
    }
   ],
   "source": [
    "list_num = [5,3,9,7,23,108,64]\n",
    "######## Enter your code below ##########\n",
    "print(sum(list_num))"
   ]
  },
  {
   "cell_type": "markdown",
   "metadata": {
    "button": false,
    "new_sheet": false,
    "run_control": {
     "read_only": false
    }
   },
   "source": [
    "<hr>\n",
    "\n",
    "#### b. Write a function `sum_nums()` that returns the sum of the numbers in list_num\n",
    "* Print the value returned by the function\n",
    "* expected result: `219`"
   ]
  },
  {
   "cell_type": "code",
   "execution_count": 2,
   "metadata": {
    "button": false,
    "new_sheet": false,
    "run_control": {
     "read_only": false
    }
   },
   "outputs": [
    {
     "name": "stdout",
     "output_type": "stream",
     "text": [
      "219\n"
     ]
    }
   ],
   "source": [
    "def sum_nums(list_):\n",
    "    return sum(list_)\n",
    "\n",
    "\n",
    "\n",
    "##### Enter your code above, testing code below #####\n",
    "list_num = [5,3,9,7,23,108,64]\n",
    "print(sum_nums(list_num))"
   ]
  },
  {
   "cell_type": "markdown",
   "metadata": {
    "button": false,
    "new_sheet": false,
    "run_control": {
     "read_only": false
    }
   },
   "source": [
    "<hr>\n",
    "\n",
    "\n",
    "#### c. Write a for loop that concatenates all strings in `list_strings` into a single string\n",
    "* There are multiple ways to do this, please use a for loop in this implementation\n",
    "* Print the output once the for loop is completed\n",
    "    * expected result: `hot coffee milk cinnamon nutmeg ginger`\n",
    "        * note that the strings are separated by spaces"
   ]
  },
  {
   "cell_type": "code",
   "execution_count": 7,
   "metadata": {
    "button": false,
    "new_sheet": false,
    "run_control": {
     "read_only": false
    }
   },
   "outputs": [
    {
     "name": "stdout",
     "output_type": "stream",
     "text": [
      "hot coffee milk cinnamon nutmeg ginger \n"
     ]
    }
   ],
   "source": [
    "list_strings = ['hot coffee', 'milk', 'cinnamon', 'nutmeg', 'ginger']\n",
    "######## Enter your code below ##########\n",
    "str_ = ''\n",
    "for i in list_strings:\n",
    "    str_ += i + ' '\n",
    "\n",
    "print(str_)\n",
    "    "
   ]
  },
  {
   "cell_type": "markdown",
   "metadata": {
    "button": false,
    "new_sheet": false,
    "run_control": {
     "read_only": false
    }
   },
   "source": [
    "<hr>\n",
    "\n",
    "#### d. Write a function `concat_strings` that concatenates all strings passed in as an argument into a single string\n",
    "* Please use a for loop in your function\n",
    "* Print the output returned by the function\n",
    "    * expected result: `hot coffee milk cinnamon nutmeg ginger`\n",
    "        * note that the strings are separated by spaces"
   ]
  },
  {
   "cell_type": "code",
   "execution_count": 8,
   "metadata": {
    "button": false,
    "new_sheet": false,
    "run_control": {
     "read_only": false
    }
   },
   "outputs": [
    {
     "name": "stdout",
     "output_type": "stream",
     "text": [
      "hot coffee milk cinnamon nutmeg ginger \n"
     ]
    }
   ],
   "source": [
    "def concat_strings(str_list):\n",
    "    str_ = ''\n",
    "    for i in str_list:\n",
    "        str_ += i + ' '\n",
    "    return str_\n",
    "\n",
    "\n",
    "##### Enter your code above, test your code below #####\n",
    "list_strings = ['hot coffee', 'milk', 'cinnamon', 'nutmeg', 'ginger']\n",
    "print(concat_strings(list_strings))"
   ]
  },
  {
   "cell_type": "markdown",
   "metadata": {
    "button": false,
    "new_sheet": false,
    "run_control": {
     "read_only": false
    }
   },
   "source": [
    "<hr>\n",
    "\n",
    "<hr>\n",
    "\n",
    "### SA:Q2 More Functions\n",
    "* Seriously, we want you to use functions, a lot.\n",
    "* Why?\n",
    "    * Well-named functions make your code easier to read and organize.\n",
    "    * Functions are reusable.\n",
    "    * Functions encapsulate an atomic operation.\n",
    "    * Functions are easier to run tests on."
   ]
  },
  {
   "cell_type": "markdown",
   "metadata": {
    "button": false,
    "new_sheet": false,
    "run_control": {
     "read_only": false
    }
   },
   "source": [
    "<hr>\n",
    "\n",
    "#### a. Write a function `plus_ten()` that takes a list of numbers and returns a list with 10 added to each number\n",
    "* Print the value returned by the function\n",
    "* expected result: `[22, 12, 15, 17, 19, 24, 25]`"
   ]
  },
  {
   "cell_type": "code",
   "execution_count": 9,
   "metadata": {
    "button": false,
    "new_sheet": false,
    "run_control": {
     "read_only": false
    }
   },
   "outputs": [
    {
     "name": "stdout",
     "output_type": "stream",
     "text": [
      "[22, 12, 15, 17, 19, 24, 25]\n"
     ]
    }
   ],
   "source": [
    "def plus_ten(num_list):\n",
    "    num_list2 = []\n",
    "    for i in num_list:\n",
    "        i += 10\n",
    "        num_list2.append(i)\n",
    "    return num_list2\n",
    "\n",
    "\n",
    "\n",
    "##### Enter your code above, testing code below #####\n",
    "list_nums = [12, 2, 5, 7, 9, 14, 15]\n",
    "print(plus_ten(list_nums))"
   ]
  },
  {
   "cell_type": "markdown",
   "metadata": {
    "button": false,
    "new_sheet": false,
    "run_control": {
     "read_only": false
    }
   },
   "source": [
    "<hr>\n",
    "\n",
    "\n",
    "#### b. Write a function `list_of_word_lens()` that takes in a list of strings and returns a list of the each word length\n",
    "* Print the value returned by the function\n",
    "* expected result: `[10, 4, 8, 6, 6]`"
   ]
  },
  {
   "cell_type": "code",
   "execution_count": 13,
   "metadata": {
    "button": false,
    "new_sheet": false,
    "run_control": {
     "read_only": false
    }
   },
   "outputs": [
    {
     "name": "stdout",
     "output_type": "stream",
     "text": [
      "[10, 4, 8, 6, 6]\n"
     ]
    }
   ],
   "source": [
    "def list_of_word_lens(str_list):\n",
    "    \n",
    "    len_list = []\n",
    "    for i in str_list:\n",
    "        len_list.append(len(i))\n",
    "    return len_list\n",
    "\n",
    "\n",
    "\n",
    "##### Enter your code above, testing code below #####\n",
    "list_nums = ['hot coffee', 'milk', 'cinnamon', 'nutmeg', 'ginger']\n",
    "print(list_of_word_lens(list_nums))"
   ]
  },
  {
   "cell_type": "markdown",
   "metadata": {
    "button": false,
    "new_sheet": false,
    "run_control": {
     "read_only": false
    }
   },
   "source": [
    "<hr>\n",
    "\n",
    "<hr>\n",
    "\n",
    "### SA:Q3 Dictionaries and Strings\n",
    "* This challenge involves writing functions that use dictionaries\n",
    "* To learn more about dictionaries, [Read the Python 3 docs on dictionaries](https://docs.python.org/3/tutorial/datastructures.html#dictionaries)"
   ]
  },
  {
   "cell_type": "markdown",
   "metadata": {
    "button": false,
    "new_sheet": false,
    "run_control": {
     "read_only": false
    }
   },
   "source": [
    "<hr>\n",
    "\n",
    "#### a. Write a function `lower_first_rest_upper()` that takes a string as input and returns a string where the first letter of each word is lowercase, and the rest of the word is uppercase\n",
    "* You will likely to use `string` methods:\n",
    "    * `string.lower()`\n",
    "    * `string.upper()`\n",
    "* Print the result of your function call\n",
    "* expected result: `fAVARTIA pERITA iS a sPECIES oF sEA sNAIL`"
   ]
  },
  {
   "cell_type": "code",
   "execution_count": 50,
   "metadata": {
    "button": false,
    "new_sheet": false,
    "run_control": {
     "read_only": false
    }
   },
   "outputs": [
    {
     "name": "stdout",
     "output_type": "stream",
     "text": [
      "fAVARTIA pERITA iS a sPECIES oF sEA sNAIL\n"
     ]
    }
   ],
   "source": [
    "string_to_mod = 'Favartia perita is a species of sea snail'\n",
    "\n",
    "#########  Complete the Code Below ###########\n",
    "def lower_first_rest_upper(str_):\n",
    "    \n",
    "#     str_list = str_.split(' ')\n",
    "    new_wrd = ''\n",
    "    new_list = []\n",
    "    for wrd in str_.split(' '):\n",
    "        for count, let in enumerate(wrd, 0):\n",
    "            if count == 0:\n",
    "                let = let.replace(let, let.lower())\n",
    "            else:\n",
    "                let = let.replace(let, let.upper())\n",
    "            new_wrd += let\n",
    "        new_list.append(new_wrd)\n",
    "        new_wrd = ''\n",
    "        \n",
    "    return ' '.join(new_list)\n",
    "\n",
    "\n",
    "\n",
    "\n",
    "\n",
    "\n",
    "######## Test your Code Below ###########\n",
    "print(lower_first_rest_upper(string_to_mod))"
   ]
  },
  {
   "cell_type": "markdown",
   "metadata": {
    "button": false,
    "new_sheet": false,
    "run_control": {
     "read_only": false
    }
   },
   "source": [
    "<hr>\n",
    "\n",
    "#### b. Write a function `letter_counter()` that takes a string as input and returns a dictionary associating letters with the count of that letter's occurrence\n",
    "* Note that we are using a DOCSTRING to describe the function's behavior\n",
    "* Print the dictionary returned by the function\n",
    "* expected result: `{'a': 36, 'e': 50, 'i': 30, 'o': 31, 'u': 9, 'n': 28}`"
   ]
  },
  {
   "cell_type": "code",
   "execution_count": 57,
   "metadata": {
    "button": false,
    "new_sheet": false,
    "run_control": {
     "read_only": false
    }
   },
   "outputs": [
    {
     "name": "stdout",
     "output_type": "stream",
     "text": [
      "{'a': 36, 'e': 50, 'i': 30, 'o': 31, 'u': 9, 'n': 28}\n"
     ]
    }
   ],
   "source": [
    "paragraph_to_read = '''\n",
    "Kepler-20f (also known by its Kepler Object of Interest \n",
    "designation KOI-70.05) is an exoplanet orbiting the \n",
    "Sun-like star Kepler-20, the second outermost of five \n",
    "such planets discovered by NASA's Kepler spacecraft. \n",
    "It is located approximately 929 light-years \n",
    "(285 parsecs, or about 8.988*1015 km) from Earth in \n",
    "the constellation Lyra. The exoplanet was found by \n",
    "using the transit method, in which the dimming effect \n",
    "that a planet causes as it crosses in front of its star \n",
    "is measured. The planet is notable as it has the \n",
    "closest radius to Earth known so far.\n",
    "'''\n",
    "\n",
    "#########  Complete the Function Code Below ###########\n",
    "def letter_counter(paragraph, letters_to_count):\n",
    "    '''\n",
    "    Returns the number of times a list of specified\n",
    "    letters appear in a string. The count should be\n",
    "    case-insensitive\n",
    "    \n",
    "    PARAMETERS\n",
    "    ----------\n",
    "    paragraph: str\n",
    "        A potentially multi-line string\n",
    "    letters_to_count: list of strings\n",
    "        A list of letters\n",
    "        \n",
    "    RETURNS\n",
    "    -------\n",
    "    letter_dict: dict\n",
    "        - key: letter\n",
    "        - value: the count of that letter in the \n",
    "                 paragraph\n",
    "                 \n",
    "    EXAMPLE\n",
    "    -------\n",
    "    ```\n",
    "    This is the string of interest. Count the vowels!\n",
    "    ```\n",
    "    >>> letter_counter(example_string, [a,e,i,o,u])\n",
    "    {'a':0, 'e':5, 'i':4, 'o':3, 'u':1}\n",
    "    '''\n",
    "    d = {}\n",
    "    for let in letters_to_count:\n",
    "        d[let] = 0\n",
    "    for letter in paragraph.lower():\n",
    "        if letter in d.keys():\n",
    "            d[letter] += 1\n",
    "    return d\n",
    "\n",
    "######## Test your Code Below ###########\n",
    "print(letter_counter(paragraph_to_read, ['a','e','i','o','u', 'n']))"
   ]
  },
  {
   "cell_type": "markdown",
   "metadata": {
    "button": false,
    "new_sheet": false,
    "run_control": {
     "read_only": false
    }
   },
   "source": [
    "<hr>\n",
    "\n",
    "#### c. Write a function `word_permutations_dict()` that takes a string as input and returns a dictionary where the keys are every word in the input string, and the values are lists containing strings of every permutation of letters of that word\n",
    "* **DO NOT use an import of a permutations method here, implement an algorithm!**\n",
    "    * You will likely want to use [Heap's Algorithm](https://en.wikipedia.org/wiki/Heap%27s_algorithm) to generate your permutations, although there are multiple other algorithms to accomplish this task.\n",
    "* You may want to use a helper function\n",
    "* When you test your function, it will be more helpful to print the lengths of the lists for each key in the dictionary instead of printing the lists themselves.\n",
    "    * expected result:\n",
    "           moths : 120 permutations\n",
    "           are : 6 permutations\n",
    "           insect : 720 permutations\n",
    "           teddy : 60 permutations\n",
    "           bears : 120 permutations\n",
    "    * Hint:\n",
    "        * What happens if you have repeated letters in a word?"
   ]
  },
  {
   "cell_type": "code",
   "execution_count": 70,
   "metadata": {
    "button": false,
    "new_sheet": false,
    "run_control": {
     "read_only": false
    },
    "scrolled": false
   },
   "outputs": [
    {
     "name": "stdout",
     "output_type": "stream",
     "text": [
      "moths : 120 permutations\n",
      "are : 6 permutations\n",
      "insect : 720 permutations\n",
      "teddy : 60 permutations\n",
      "bears : 120 permutations\n"
     ]
    }
   ],
   "source": [
    "test_string = 'moths are insect teddy bears'\n",
    "\n",
    "#########  Complete your Function Code Below ###########\n",
    "\n",
    "def permutations(string, l, step = 0):\n",
    "    \n",
    "    # if we've gotten to the end, print the permutation\n",
    "    # base case that stops it\n",
    "    if step == len(string):\n",
    "        l.add(\"\".join(string))\n",
    "        \n",
    "    # everything to the right of step has not been swapped yet\n",
    "    \n",
    "    for i in range(step, len(string)):\n",
    "\n",
    "        # copy the string (store as array)\n",
    "        string_copy = [character for character in string]\n",
    "\n",
    "        # swap the current index with the step\n",
    "        string_copy[step], string_copy[i] = string_copy[i], string_copy[step]\n",
    "\n",
    "        # recurse on the portion of the string that has not been swapped yet (now it's index will begin with step + 1)\n",
    "        permutations(string_copy, l, step + 1)\n",
    "    \n",
    "    return list(l)\n",
    "    \n",
    "\n",
    "def word_permutations_dict(input_string):\n",
    "    '''\n",
    "    Returns a dictionary containing lists of \n",
    "    permutations of every word of an input string.\n",
    "    Assume the length of the permutation is all\n",
    "    letters in that given word.\n",
    "    Assume no punctuation in the string and that\n",
    "    words are separated by spaces.\n",
    "    Assume all letters are lower case.\n",
    "    \n",
    "    PARAMETERS\n",
    "    ----------\n",
    "    input_string: str\n",
    "        \n",
    "        \n",
    "    RETURNS\n",
    "    -------\n",
    "    letter_dict: dict\n",
    "        - key: word\n",
    "        - value: list of permutations of that word\n",
    "                 \n",
    "    EXAMPLE\n",
    "    -------\n",
    "    ```\n",
    "    some_string = 'art bib'\n",
    "    ```\n",
    "    >>> word_permutations_dict(some_string)\n",
    "    {'art': ['rta', 'tra', 'tar', 'rat', 'art', 'atr'],\n",
    "     'bib': ['bbi', 'bib', 'ibb']}\n",
    "    '''\n",
    "    str_list = input_string.split(' ')\n",
    "    d = {k_str: '1' for k_str in str_list}\n",
    "    for k in d.keys():\n",
    "        l = set()\n",
    "        d[k] = permutations(k, l)\n",
    "\n",
    "    \n",
    "    return d\n",
    "    \n",
    "    \n",
    "    \n",
    "\n",
    "\n",
    "######## Test your Code Below ###########\n",
    "perms_dict = word_permutations_dict(test_string)\n",
    "for k,v in perms_dict.items():\n",
    "    print('{} : {} permutations'.format(k, len(v)))"
   ]
  },
  {
   "cell_type": "markdown",
   "metadata": {
    "button": false,
    "new_sheet": false,
    "run_control": {
     "read_only": false
    }
   },
   "source": [
    "<hr>\n",
    "\n",
    "<hr>\n",
    "\n",
    "<hr>\n",
    "\n",
    "\n",
    "\n",
    "# Section B: Probability and Statistics\n",
    "* complete each problem below according to the instructions"
   ]
  },
  {
   "cell_type": "markdown",
   "metadata": {
    "button": false,
    "new_sheet": false,
    "run_control": {
     "read_only": false
    }
   },
   "source": [
    "<hr>\n",
    "\n",
    "<hr>\n",
    "\n",
    "### SB:Q1 Descriptive Statistics\n",
    "* In this section, you will implement functions to describe data that is input.\n",
    "* [Khan Academy Course on Summarizing Quantitative Data](https://www.khanacademy.org/math/statistics-probability/summarizing-quantitative-data)\n",
    "* **DO NOT USE SPECIFIC IMPORTED FUNCTIONS**\n",
    "    * You are welcome to use vectorized math with the [numpy.array object](https://docs.scipy.org/doc/numpy/reference/generated/numpy.array.html), which is completely fine and encouraged. However, you should implement any measurement functions yourself and not import any specific, precoded metric functions."
   ]
  },
  {
   "cell_type": "markdown",
   "metadata": {
    "button": false,
    "new_sheet": false,
    "run_control": {
     "read_only": false
    }
   },
   "source": [
    "<hr>\n",
    "\n",
    "#### a. Write a function `central_tendencies` that returns the mean, median and mode of a list of numbers\n",
    "* Print the output from the function:\n",
    "    * expected result: `(5.933333333333334, 6.0, 1.0)`"
   ]
  },
  {
   "cell_type": "code",
   "execution_count": 4,
   "metadata": {
    "button": false,
    "new_sheet": false,
    "run_control": {
     "read_only": false
    }
   },
   "outputs": [
    {
     "name": "stdout",
     "output_type": "stream",
     "text": [
      "(5.933333333333334, 6, [1])\n"
     ]
    }
   ],
   "source": [
    "def central_tendencies(num_list):\n",
    "    '''\n",
    "    Returns the mean, median and mode\n",
    "    of a list of numbers\n",
    "    \n",
    "    PARAMETERS\n",
    "    ----------\n",
    "    num_list: list of ints\n",
    "        \n",
    "    RETURNS\n",
    "    -------\n",
    "    central_vals: tuple of len=3\n",
    "        mean: float\n",
    "            the arithmetic mean of the num_list\n",
    "\n",
    "        median: float\n",
    "            the median value in the num_list\n",
    "\n",
    "        mode: float\n",
    "            the most common value in the num_list\n",
    "            assume only one mode in the distribution\n",
    "        \n",
    "    EXAMPLE\n",
    "    -------\n",
    "    ```\n",
    "    nums = [2, 2, 3, 4, 5]\n",
    "    ```\n",
    "    >>> central_tendencies(nums)\n",
    "    (3.2, 3.0, 2.0)\n",
    "    '''\n",
    "    # mean\n",
    "    mean = sum(num_list) / len(num_list)\n",
    "\n",
    "    # median\n",
    "    if len(num_list) % 2 != 0:\n",
    "        median = num_list[int(len(num_list) / 2)]\n",
    "    else:\n",
    "        median = (num_list[int(len(num_list)/2) - 1] + num_list[int(len(num_list)/2)]) / 2\n",
    "\n",
    "    # mode\n",
    "    mode_dict = {num:num_list.count(num) for num in num_list}\n",
    "    mode = []\n",
    "    for key, val in mode_dict.items():\n",
    "        if val == max(mode_dict.values()):\n",
    "            mode.append(key)\n",
    "\n",
    "\n",
    "    return (mean, median, mode)\n",
    "\n",
    "######## Test your Code Below ###########\n",
    "nums = [1,1,1,2,3,4,5,6,7,8,9,9,10,11,12]\n",
    "print(central_tendencies(nums))"
   ]
  },
  {
   "cell_type": "markdown",
   "metadata": {
    "button": false,
    "new_sheet": false,
    "run_control": {
     "read_only": false
    }
   },
   "source": [
    "<hr>\n",
    "\n",
    "#### b. Write a function `distr_spread()` that returns the range, variance, and standard deviation of a list of numbers\n",
    "* Hints: \n",
    "    * You can call your previous function \n",
    "    * You may want to import the python `math` module \n",
    "        * read about the `math` module [here](https://docs.python.org/3/library/math.html)\n",
    "* Print the output from the function:\n",
    "    * expected result: `(11, 14.638095238095238, 3.8259763770958175)`"
   ]
  },
  {
   "cell_type": "code",
   "execution_count": 5,
   "metadata": {
    "button": false,
    "new_sheet": false,
    "run_control": {
     "read_only": false
    }
   },
   "outputs": [
    {
     "name": "stdout",
     "output_type": "stream",
     "text": [
      "(11, 14.638095238095238, 3.8259763770958175)\n"
     ]
    }
   ],
   "source": [
    "import math\n",
    "\n",
    "def distr_spread(num_list):\n",
    "    '''\n",
    "    Returns the range, sample variance, and \n",
    "    sample standard deviation\n",
    "    \n",
    "    PARAMETERS\n",
    "    ----------\n",
    "    num_list: list of ints\n",
    "        \n",
    "    RETURNS\n",
    "    -------\n",
    "    spread_vals: tuple of len=3\n",
    "        samp_range: float\n",
    "            the span of values in the data\n",
    "\n",
    "        samp_variance: float\n",
    "            the median value in the num_list\n",
    "\n",
    "        samp_std: float\n",
    "            the most common value in the num_list\n",
    "            assume only one mode in the distribution\n",
    "        \n",
    "    EXAMPLE\n",
    "    -------\n",
    "    ```\n",
    "    nums = [2, 2, 3, 4, 5]\n",
    "    ```\n",
    "    >>> distr_spread(nums)\n",
    "    (3, 1.7, 1.3038404810405297)\n",
    "    '''\n",
    "    mean, median, mode = central_tendencies(num_list)\n",
    "    \n",
    "    sigma_x = 0\n",
    "    for num in num_list:\n",
    "        sigma_x += (num - mean)**2\n",
    "\n",
    "    variance = sigma_x / (len(num_list) - 1)\n",
    "    std = math.sqrt(variance)\n",
    "    range_ = max(num_list) - min(num_list)\n",
    "\n",
    "\n",
    "    return (range_, variance, std)\n",
    "    \n",
    "    \n",
    "    \n",
    "\n",
    "######## Test your Code Below ###########\n",
    "nums = [1,1,1,2,3,4,5,6,7,8,9,9,10,11,12]\n",
    "print(distr_spread(nums))\n"
   ]
  },
  {
   "cell_type": "markdown",
   "metadata": {
    "button": false,
    "new_sheet": false,
    "run_control": {
     "read_only": false
    }
   },
   "source": [
    "<hr>\n",
    "\n",
    "#### c. Write a function `get_mse()` that returns the Mean Squared Error between two lists of numbers\n",
    "* Note: We are referring to MSE in the context of the of the sum of squared difference between actual observations and the observations predicted by a model.\n",
    "* Print the output from the function:\n",
    "    * expected result: `2.2666666666666666`"
   ]
  },
  {
   "cell_type": "code",
   "execution_count": 6,
   "metadata": {
    "button": false,
    "new_sheet": false,
    "run_control": {
     "read_only": false
    }
   },
   "outputs": [
    {
     "name": "stdout",
     "output_type": "stream",
     "text": [
      "2.2666666666666666\n"
     ]
    }
   ],
   "source": [
    "\n",
    "def get_mse(actual, predictions):\n",
    "    '''\n",
    "    Returns the Mean Squared Error between\n",
    "    two lists\n",
    "    \n",
    "    PARAMETERS\n",
    "    ----------\n",
    "    actual: list of ints\n",
    "    \n",
    "    predictions: list of ints\n",
    "        \n",
    "    RETURNS\n",
    "    -------\n",
    "    mse: float\n",
    "        Representing the average of the sum\n",
    "        of squared errors between two lists\n",
    "        \n",
    "    EXAMPLE\n",
    "    -------\n",
    "    ```\n",
    "    nums1 = [2, 2, 3, 4, 5]\n",
    "    nums2 = [3, 3, 3, 5, 5]\n",
    "    ```\n",
    "    >>> get_mse(nums)\n",
    "    0.6\n",
    "    '''\n",
    "    z_list = list(zip(actual, predictions))\n",
    "    mse = 0\n",
    "    for i, j in z_list:\n",
    "        if j < i:\n",
    "            mse += (i - j)**2\n",
    "        else:\n",
    "            mse += (j - i)**2\n",
    "    \n",
    "    return mse / len(z_list)\n",
    "\n",
    "    \n",
    "    \n",
    "    \n",
    "    \n",
    "    \n",
    "\n",
    "######## Test your Code Below ###########\n",
    "actual = [1,1,1,2,3,4,5,6,7,8,9,9,10,11,12]\n",
    "predictions = [2,2,2,3,4,5,6,7,8,9,10,10,8,14,15]\n",
    "print(get_mse(actual, predictions))\n"
   ]
  },
  {
   "cell_type": "markdown",
   "metadata": {
    "button": false,
    "new_sheet": false,
    "run_control": {
     "read_only": false
    }
   },
   "source": [
    "<hr>\n",
    "\n",
    "#### d. Write a function `sigmoid_logistic()` that returns $f(x)$ for the sigmoid/logistic function $f(x)=\\frac{1}{1+e^{-x}}$,  as well as 0 or 1 based on the setting of a threshold \n",
    "* The Logistic Function will come up a lot in terms of Logistic Regression.\n",
    "* You can get Euler's number $e$ from the `math` module.\n",
    "* Print the output from the function:\n",
    "    * expected result: `(0.7310585786300049, 1)`"
   ]
  },
  {
   "cell_type": "code",
   "execution_count": 10,
   "metadata": {
    "button": false,
    "new_sheet": false,
    "run_control": {
     "read_only": false
    }
   },
   "outputs": [
    {
     "name": "stdout",
     "output_type": "stream",
     "text": [
      "(0.7310585786300049, 1)\n"
     ]
    }
   ],
   "source": [
    "import math\n",
    "\n",
    "def sigmoid_logistic(x, threshold):\n",
    "    '''\n",
    "    Returns the output of the sigmoid logistic\n",
    "    function and 0 or 1 based on a given threshold.\n",
    "    \n",
    "    PARAMETERS\n",
    "    ----------\n",
    "    x: number\n",
    "        Input to the sigmoid/logistic function\n",
    "    \n",
    "    threshold: float\n",
    "        value between 0 and 1 that dictates\n",
    "        threshold\n",
    "        \n",
    "    RETURNS\n",
    "    -------\n",
    "    tuple:\n",
    "        f_of_x: float\n",
    "            Representing the output of the \n",
    "            sigmoid function\n",
    "            \n",
    "        threshed: int\n",
    "            0 or 1, based on the given\n",
    "            result of f_of_x being above\n",
    "            or below the threshold\n",
    "        \n",
    "    EXAMPLE\n",
    "    -------\n",
    "    ```\n",
    "    x = -9\n",
    "    threshold = 0.4\n",
    "    ```\n",
    "    >>> sigmoid_logistic(x, threshold)\n",
    "    (0.00012339457598623172, 0)\n",
    "    '''\n",
    "    euler = 1 / (1 + math.exp(-x))\n",
    "    \n",
    "    if euler > .5:\n",
    "        threshold = 1\n",
    "    else:\n",
    "        threshold = 0\n",
    "    \n",
    "    return euler, threshold\n",
    "    \n",
    "\n",
    "\n",
    "######## Test your Code Below ###########\n",
    "x = 1\n",
    "threshold = 0.73\n",
    "print(sigmoid_logistic(x, threshold))"
   ]
  },
  {
   "cell_type": "markdown",
   "metadata": {
    "button": false,
    "new_sheet": false,
    "run_control": {
     "read_only": false
    }
   },
   "source": [
    "<hr>\n",
    "\n",
    "<hr>\n",
    "\n",
    "### SB:Q2 Probability and Bayes Theorem\n",
    "* In this section, you will fill in markdown cells with responses to probability problems.\n",
    "    * You should also write a brief justification for your numerical response.\n",
    "* You should perform any calculations using Python in the code cells immediately above the markdown cell.\n",
    "* For a review of probability, see \n",
    "    * [Khan Academy](https://www.khanacademy.org/math/precalculus/prob-comb)\n",
    "    * [Interactive Mathematics](https://www.intmath.com/counting-probability/counting-probability-intro.php)"
   ]
  },
  {
   "cell_type": "markdown",
   "metadata": {
    "button": false,
    "new_sheet": false,
    "run_control": {
     "read_only": false
    }
   },
   "source": [
    "<hr>\n",
    "\n",
    "#### a. Permutations\n",
    "* [Related KA Practice Problems](https://www.khanacademy.org/math/precalculus/prob-comb/combinatorics-precalc/e/permutations_1)\n",
    "* [Related IM Practice Problems](https://www.intmath.com/counting-probability/3-permutations.php)"
   ]
  },
  {
   "cell_type": "markdown",
   "metadata": {
    "button": false,
    "new_sheet": false,
    "run_control": {
     "read_only": false
    }
   },
   "source": [
    "1. How many ways can you arrange the numbers 1, 2, 3, 4 and 5?"
   ]
  },
  {
   "cell_type": "code",
   "execution_count": 74,
   "metadata": {
    "button": false,
    "new_sheet": false,
    "run_control": {
     "read_only": false
    }
   },
   "outputs": [
    {
     "name": "stdout",
     "output_type": "stream",
     "text": [
      "120.0\n"
     ]
    }
   ],
   "source": [
    "import math\n",
    "l = [1,2,3,4,5]\n",
    "result = math.factorial(len(l)) /  math.factorial(len(l) - len(l)) # n! / (n -r)!\n",
    "print(result)"
   ]
  },
  {
   "cell_type": "markdown",
   "metadata": {
    "button": false,
    "new_sheet": false,
    "run_control": {
     "read_only": false
    }
   },
   "source": [
    "```\n",
    "Permutation formula = n! / (n - r)!\n",
    "I passed in a list of the int,\n",
    "used math.factorial with the length of list to get the number of objects (n);\n",
    "for r, the sample size = 5 b/c we have 5 different numbers to choose from;\n",
    "thus, n! / (n-r)!\n",
    "\n",
    "```"
   ]
  },
  {
   "cell_type": "markdown",
   "metadata": {
    "button": false,
    "new_sheet": false,
    "run_control": {
     "read_only": false
    }
   },
   "source": [
    "2. How many ways can you arrange 1, 1, 2, 3, 4?\n"
   ]
  },
  {
   "cell_type": "code",
   "execution_count": 29,
   "metadata": {
    "button": false,
    "new_sheet": false,
    "run_control": {
     "read_only": false
    }
   },
   "outputs": [
    {
     "name": "stdout",
     "output_type": "stream",
     "text": [
      "60.0\n"
     ]
    }
   ],
   "source": [
    "import math\n",
    "# nPr / x_repeats -> perumtations with repetition\n",
    "def permutation_w_repetition(num_list, n=None, r=None):\n",
    "    n,r = len(num_list), len(num_list)\n",
    "    permu = math.factorial(n) / math.factorial(n-r) # n! / (n-r)!\n",
    "    x_repeat = set([i for i in num_list if num_list.count(i) > 1])\n",
    "    x_factorial = math.factorial(0)\n",
    "    for i in x_repeat:\n",
    "        x_factorial *= math.factorial(num_list.count(i))\n",
    "    return permu / x_factorial\n",
    "\n",
    "my_list = [1,1,2,3,4]\n",
    "print(permutation_w_repetition(my_list))"
   ]
  },
  {
   "cell_type": "markdown",
   "metadata": {
    "button": false,
    "new_sheet": false,
    "run_control": {
     "read_only": false
    }
   },
   "source": [
    "```\n",
    "First and formost, our permutation set has repetition.\n",
    "Thus, we use the following formula: nPr / x1!*x2!*xn! -> where x is the number of times an element is repeated.\n",
    "So, we take care of n and r variables, n = 5 total, r = choosing all 5 elements.\n",
    "Perform numerator permutation fun() -> n! / (n-r)!\n",
    "we append the repeats to our x_repeat {set} -> (set for unique distinguishment; cancels repitition) by checking count > 1.\n",
    "multiply all the x! in x_repeat\n",
    "Lastly, put the permutation with repetition formula all together -> permu / x_factorial; (n! / (n-r)!) / (xi!*...xi!)\n",
    "```"
   ]
  },
  {
   "cell_type": "markdown",
   "metadata": {
    "button": false,
    "new_sheet": false,
    "run_control": {
     "read_only": false
    }
   },
   "source": [
    "3. How many ways can you arrange two 3s and three 5s?"
   ]
  },
  {
   "cell_type": "code",
   "execution_count": 31,
   "metadata": {
    "button": false,
    "new_sheet": false,
    "run_control": {
     "read_only": false
    }
   },
   "outputs": [
    {
     "name": "stdout",
     "output_type": "stream",
     "text": [
      "10.0\n"
     ]
    }
   ],
   "source": [
    "import math\n",
    "# permutation; since order does not matter\n",
    "# permutation -> n! / (n-r)!\n",
    "# same as last; permutation with repetition\n",
    "list_ = [3,3,5,5,5]\n",
    "print(permutation_w_repetition(list_))\n"
   ]
  },
  {
   "cell_type": "markdown",
   "metadata": {
    "button": false,
    "new_sheet": false,
    "run_control": {
     "read_only": false
    }
   },
   "source": [
    "```\n",
    "The following is an exptention to permutation with repeats.\n",
    "I then created a function on the previous question (2) and the function procedure executes the permutation with repetition algorithm\n",
    "```"
   ]
  },
  {
   "cell_type": "markdown",
   "metadata": {
    "button": false,
    "new_sheet": false,
    "run_control": {
     "read_only": false
    }
   },
   "source": [
    "<hr>\n",
    "\n",
    "#### b. Combinations\n",
    "* [Related KA Practice Problems](https://www.khanacademy.org/math/precalculus/prob-comb/combinations/e/combinations_1)\n",
    "* [Related IM Practice Problems](https://www.intmath.com/counting-probability/4-combinations.php)"
   ]
  },
  {
   "cell_type": "markdown",
   "metadata": {
    "button": false,
    "new_sheet": false,
    "run_control": {
     "read_only": false
    }
   },
   "source": [
    "1. How many different poker hands (5 cards) can you have? A deck holds 52 cards"
   ]
  },
  {
   "cell_type": "code",
   "execution_count": 46,
   "metadata": {
    "button": false,
    "new_sheet": false,
    "run_control": {
     "read_only": false
    }
   },
   "outputs": [
    {
     "name": "stdout",
     "output_type": "stream",
     "text": [
      "2598960\n"
     ]
    }
   ],
   "source": [
    "# perform any calculations here\n",
    "# combintation -> n! / (n-r)!r!\n",
    "import math\n",
    "def distinct_combinations(n_iter, r_iter=None):\n",
    "    n, r = None, None\n",
    "    # n\n",
    "    if type(n_iter) == int:\n",
    "        n = n_iter # if int\n",
    "    else:\n",
    "        n = len(n_iter) # if list\n",
    "    \n",
    "    # r\n",
    "    if r_iter == None:\n",
    "        r = n\n",
    "    elif type(r_iter) == int:\n",
    "        r = r_iter # if int\n",
    "    else:\n",
    "        r = len(r_iter) # if list\n",
    "    return int(math.factorial(n) / (math.factorial(n-r) * math.factorial(r)))\n",
    "\n",
    "deck = list(range(52))\n",
    "hand = list(range(5))\n",
    "print(distinct_combinations(deck, hand))"
   ]
  },
  {
   "cell_type": "markdown",
   "metadata": {
    "button": false,
    "new_sheet": false,
    "run_control": {
     "read_only": false
    }
   },
   "source": [
    "```\n",
    "Combination formula = n! / (n-r)!r!\n",
    "First imported math to use math.factorial(); created a function\n",
    "2 parameters; n for the total elements from an iterable, and r for \"choose x amount\"\n",
    "convert both parameters to be integers; if r is not define, that defaults to choosing all n elements\n",
    "Lastly, the function returns performs combination calculation (n! / (n-r)!r!)\n",
    "assigned a list of deck and hand with respects to the question n = 52, r = 5\n",
    "```"
   ]
  },
  {
   "cell_type": "markdown",
   "metadata": {
    "button": false,
    "new_sheet": false,
    "run_control": {
     "read_only": false
    }
   },
   "source": [
    "2. There are five flavors of ice cream: Chocolate, Vanilla, Pistachio, Strawberry, and Mint. How\n",
    "many three scoop ice-creams can you make if all the scoops must be different flavors?"
   ]
  },
  {
   "cell_type": "code",
   "execution_count": 47,
   "metadata": {
    "button": false,
    "new_sheet": false,
    "run_control": {
     "read_only": false
    }
   },
   "outputs": [
    {
     "name": "stdout",
     "output_type": "stream",
     "text": [
      "10\n"
     ]
    }
   ],
   "source": [
    "# perform any calculations here\n",
    "# if all the scoops MUST be different, then that meets the distinct_combinations formula (function above)\n",
    "ice_cream = ['Chocolate', 'Vanilla', 'Pistachio', 'Strawberry', 'Mint']\n",
    "print(distinct_combinations(5, 3))"
   ]
  },
  {
   "cell_type": "markdown",
   "metadata": {
    "button": false,
    "new_sheet": false,
    "run_control": {
     "read_only": false
    }
   },
   "source": [
    "```\n",
    "Given that the question states, \"if all scoops MUST be different flavors\", Then that satistfies the combinations formula -> n!/ (n-r)!r! bc the combination formula discludes repitions (distinct combination sets only)\n",
    "So, I can go ahead and use my distinct_combinations()\n",
    "```"
   ]
  },
  {
   "cell_type": "markdown",
   "metadata": {
    "button": false,
    "new_sheet": false,
    "run_control": {
     "read_only": false
    }
   },
   "source": [
    "<hr>\n",
    "\n",
    "#### c. Probability of an Event\n",
    "* [Related IM Practice Problems 1](https://www.intmath.com/counting-probability/6-probability-event.php)\n",
    "* [Related IM Practice Problems 2](https://www.intmath.com/counting-probability/poker.php)"
   ]
  },
  {
   "cell_type": "markdown",
   "metadata": {
    "button": false,
    "new_sheet": false,
    "run_control": {
     "read_only": false
    }
   },
   "source": [
    "1. In a deck of cards (52 cards), what’s the probability of picking a queen? A heart? Of picking a\n",
    "card that’s not a queen nor a heart?"
   ]
  },
  {
   "cell_type": "code",
   "execution_count": 49,
   "metadata": {
    "button": false,
    "new_sheet": false,
    "run_control": {
     "read_only": false
    }
   },
   "outputs": [
    {
     "name": "stdout",
     "output_type": "stream",
     "text": [
      "0.07692307692307693 0.25 0.6730769230769231\n"
     ]
    }
   ],
   "source": [
    "# 4 suits: [hearts, diamonds, clubs, spades]\n",
    "# card_type: [ace,2,3,4,5,6,7,8,9,10,jack,queen,king] -> 13 differ types\n",
    "p_queen = 4 / 52\n",
    "p_heart = 13 / 52\n",
    "p_not_queen_heart = 1 - (p_queen + p_heart) # Independent in this case -> p(a) + p(b)\n",
    "print(p_queen, p_heart, p_not_queen_heart)"
   ]
  },
  {
   "cell_type": "markdown",
   "metadata": {
    "button": false,
    "new_sheet": false,
    "run_control": {
     "read_only": false
    }
   },
   "source": [
    "```\n",
    "4 suits: [hearts, diamonds, clubs, spades]\n",
    "card_type: [ace,2,3,4,5,6,7,8,9,10,jack,queen,king] -> 13 differ types\n",
    "13 * 4 = 52 -> total probability\n",
    "p_queen -> only 4 queens bc of the different suit type\n",
    "p_heart -> bc there are 13 distinct card value, and 4 different suit type; 52 / 4 = 13\n",
    "p_not_queen_heart -> complement of p(queen OR heart) -> why we add the probabilities together; \n",
    "```"
   ]
  },
  {
   "cell_type": "markdown",
   "metadata": {
    "button": false,
    "new_sheet": false,
    "run_control": {
     "read_only": false
    }
   },
   "source": [
    "2. If I do not replace the cards, what is the probability of picking 2 kings? 4 diamonds? How do these\n",
    "probabilities evolve if I replace the cards after each draw?"
   ]
  },
  {
   "cell_type": "code",
   "execution_count": 56,
   "metadata": {
    "button": false,
    "new_sheet": false,
    "run_control": {
     "read_only": false
    }
   },
   "outputs": [
    {
     "name": "stdout",
     "output_type": "stream",
     "text": [
      "without replacement given I did NOT draw a kings: \n",
      " Two Kings: 0.058823529411764705 \n",
      " Four Diamonds 0.0026410564225690276 \n",
      "\n",
      "with replacement: \n",
      " Two Kings: 0.25 \n",
      " Four Diamonds 0.25\n"
     ]
    }
   ],
   "source": [
    "# perform any calculations here\n",
    "# 4 suits: [hearts, diamonds, clubs, spades]\n",
    "# card_type: [ace,2,3,4,5,6,7,8,9,10,jack,queen,king] -> 13 differ types\n",
    "# part a of q2 (without replacement): (dependent)\n",
    "p_two_kings = (13/52) * (12/51)\n",
    "p_four_diamonds =(13/52) * (12/51) * (11/50) * (10/49)\n",
    "print(f'without replacement: \\n Two Kings: {p_two_kings} \\n Four Diamonds {p_four_diamonds} \\n')\n",
    "\n",
    "# with replacement (independent):\n",
    "wr_kings = 13/52\n",
    "wr_diamonds = 13/52\n",
    "print(f'with replacement: \\n Two Kings: {wr_kings} \\n Four Diamonds {wr_diamonds}')\n"
   ]
  },
  {
   "cell_type": "markdown",
   "metadata": {
    "button": false,
    "new_sheet": false,
    "run_control": {
     "read_only": false
    }
   },
   "source": [
    "```\n",
    "Without replacement given I draw two kings, four diamonds consecutive draw, the events are dependent. Thus I subract 1 from the numerator and denominator per draw and multiply bc its the p(king AND king) p(D AND D AND D AND D)\n",
    "\n",
    "With replacement: event is independent; thus it resets our probability back to 13/52\n",
    "```"
   ]
  },
  {
   "cell_type": "markdown",
   "metadata": {
    "button": false,
    "new_sheet": false,
    "run_control": {
     "read_only": false
    }
   },
   "source": [
    "<hr>\n",
    "\n",
    "#### d. Independent and Dependent Events\n",
    "* [Related IM Practice Problem](https://www.intmath.com/counting-probability/8-independent-dependent-events.php)"
   ]
  },
  {
   "cell_type": "markdown",
   "metadata": {
    "button": false,
    "new_sheet": false,
    "run_control": {
     "read_only": false
    }
   },
   "source": [
    "1. The table below represents the number of kids dressed as pumpkins or ghosts on Halloween\n",
    "night and the amount of candy they received:\n",
    "\n",
    "| Amount of Candy | Less than 10 | 10-20 | 20-30 | Greater than 30 |\n",
    "|-----------------|:------------:|------:|-------|-----------------|\n",
    "| Pumpkins        |       5      |    10 | 60    | 25              |\n",
    "| Ghosts          |      15      |    40 | 80    | 15              |"
   ]
  },
  {
   "cell_type": "markdown",
   "metadata": {
    "button": false,
    "new_sheet": false,
    "run_control": {
     "read_only": false
    }
   },
   "source": [
    "> 1a.  What is the probability that a kid dressed as a pumpkin gets 20 or more pieces of candy?\n",
    "What about if they dress like a ghost?"
   ]
  },
  {
   "cell_type": "code",
   "execution_count": 12,
   "metadata": {
    "button": false,
    "new_sheet": false,
    "run_control": {
     "read_only": false
    }
   },
   "outputs": [
    {
     "name": "stdout",
     "output_type": "stream",
     "text": [
      "0.34\n"
     ]
    }
   ],
   "source": [
    "# perform any calculations here\n",
    "pumpkin_total = [5, 10, 60, 25] # 100\n",
    "ghosts_total = [15, 40, 80, 15] # 150\n",
    "total = sum(pumpkin_total) + sum(ghosts_total) # 250\n",
    "print((pumpkin_total[2] + pumpkin_total[3]) / total)"
   ]
  },
  {
   "cell_type": "code",
   "execution_count": null,
   "metadata": {},
   "outputs": [],
   "source": []
  },
  {
   "cell_type": "markdown",
   "metadata": {
    "button": false,
    "new_sheet": false,
    "run_control": {
     "read_only": false
    }
   },
   "source": [
    "```\n",
    "The probability that a kid dressed as a pumpkin gets 20 or more pieces of candy is 0.34;\n",
    "first - Find the total sum of kids in sample space -> 250 (put rows in a list; find the sum using sum(), and add each row together\n",
    "second - Look at the numbers of kids that meet criteria\n",
    "third - perform -> met_criteria / total -> 0.34; The way I did it in the code snippet above is I index through the list and divide up by the total\n",
    "```"
   ]
  },
  {
   "cell_type": "markdown",
   "metadata": {
    "button": false,
    "new_sheet": false,
    "run_control": {
     "read_only": false
    }
   },
   "source": [
    "> 1b.  What is the probability that a kid obtains less than 10 pieces of candy?"
   ]
  },
  {
   "cell_type": "code",
   "execution_count": 13,
   "metadata": {
    "button": false,
    "new_sheet": false,
    "run_control": {
     "read_only": false
    }
   },
   "outputs": [
    {
     "name": "stdout",
     "output_type": "stream",
     "text": [
      "0.08\n"
     ]
    }
   ],
   "source": [
    "# perform any calculations here\n",
    "less_than_ten = (pumpkin_total[0] + ghosts_total[0]) / total\n",
    "print(less_than_ten)"
   ]
  },
  {
   "cell_type": "markdown",
   "metadata": {
    "button": false,
    "new_sheet": false,
    "run_control": {
     "read_only": false
    }
   },
   "source": [
    "```\n",
    "First I index through each row list and and added them together that met our criteria;\n",
    "Second, divide the sum by the total to then get the probability\n",
    "```"
   ]
  },
  {
   "cell_type": "markdown",
   "metadata": {
    "button": false,
    "new_sheet": false,
    "run_control": {
     "read_only": false
    }
   },
   "source": [
    "> 1c.   What is the probability that two siblings, one dressed as a ghost and one dressed as a\n",
    "pumpkin, each receive 20 to 30 pieces of candy?"
   ]
  },
  {
   "cell_type": "code",
   "execution_count": 16,
   "metadata": {
    "button": false,
    "new_sheet": false,
    "run_control": {
     "read_only": false
    }
   },
   "outputs": [
    {
     "name": "stdout",
     "output_type": "stream",
     "text": [
      "0.0768\n"
     ]
    }
   ],
   "source": [
    "# perform any calculations here\n",
    "# p(ghost AND pumpkin recieve 20-30 pieces)\n",
    "pumpkin_ = pumpkin_total[2] / total\n",
    "ghost_ = ghosts_total[2] / total\n",
    "probs_pump_ghost = pumpkin_ * ghost_\n",
    "print(probs_pump_ghost)"
   ]
  },
  {
   "cell_type": "markdown",
   "metadata": {
    "button": false,
    "new_sheet": false,
    "run_control": {
     "read_only": false
    }
   },
   "source": [
    "```\n",
    "First I established what the probability question we're looking for more clearly to me; p(ghost AND pumpkin recieve 20-30 pieces)\n",
    "I then found the probability of the pumpkin recieving 20-30 pieces out of the total number of kids and did the same for the ghost outcome\n",
    "Lastly becuase we want to find the Probs that both events occured (both true) we multiply the pumkin outcome with the ghost outcome.\n",
    "```"
   ]
  },
  {
   "cell_type": "markdown",
   "metadata": {
    "button": false,
    "new_sheet": false,
    "run_control": {
     "read_only": false
    }
   },
   "source": [
    "2. You toss a fair die twice. What is the probability of getting less than 3 on the first toss and an\n",
    "even number on the second?"
   ]
  },
  {
   "cell_type": "code",
   "execution_count": 17,
   "metadata": {
    "button": false,
    "new_sheet": false,
    "run_control": {
     "read_only": false
    }
   },
   "outputs": [
    {
     "name": "stdout",
     "output_type": "stream",
     "text": [
      "0.16666666666666666\n"
     ]
    }
   ],
   "source": [
    "# perform any calculations here\n",
    "# p any dice outcome = 1/6\n",
    "# p (< 3 AND even num)\n",
    "# each die roll is independent;\n",
    "p_less_3 = 2 / 6\n",
    "p_even = 3 / 6\n",
    "p_both_outcomes = p_less_3 * p_even\n",
    "print(p_both_outcomes)"
   ]
  },
  {
   "cell_type": "markdown",
   "metadata": {
    "button": false,
    "new_sheet": false,
    "run_control": {
     "read_only": false
    }
   },
   "source": [
    "```\n",
    "First I distinguished the outcome for each event\n",
    "Second, since both events are to occur ( AND ) I then multiplied the probiilities of each event together\n",
    "```"
   ]
  },
  {
   "cell_type": "markdown",
   "metadata": {
    "button": false,
    "new_sheet": false,
    "run_control": {
     "read_only": false
    }
   },
   "source": [
    "<hr>\n",
    "\n",
    "#### e. Bayes' Theorem\n",
    "* Related Links:\n",
    "    * [Bayes Intuition](https://betterexplained.com/articles/an-intuitive-and-short-explanation-of-bayes-theorem/)\n",
    "    * [Interactive Bayes](http://rpsychologist.com/d3/bayes/)\n",
    "    * [Related IM Practice Problems](https://www.intmath.com/counting-probability/10-bayes-theorem.php)\n",
    "    * [Related KA Practice Problems](https://www.khanacademy.org/math/ap-statistics/probability-ap/stats-conditional-probability/e/calculating-conditional-probability)"
   ]
  },
  {
   "cell_type": "markdown",
   "metadata": {
    "button": false,
    "new_sheet": false,
    "run_control": {
     "read_only": false
    }
   },
   "source": [
    "1. You run the appliance department at your local ACME Superstore. Your toaster\n",
    "inventory is evenly split between those produced by the ACME corporation and General\n",
    "Products. ACME-branded toasters have a history of failing 9% of the time before the end\n",
    "of the warranty where as the General Products’ toasters fail 3% of the time before the\n",
    "end of the warranty."
   ]
  },
  {
   "cell_type": "markdown",
   "metadata": {
    "button": false,
    "new_sheet": false,
    "run_control": {
     "read_only": false
    }
   },
   "source": [
    "> 1a. A customer walks in with a broken toaster that they bought at your store, what is\n",
    "the probability that their toaster was made by ACME?"
   ]
  },
  {
   "cell_type": "code",
   "execution_count": 35,
   "metadata": {
    "button": false,
    "new_sheet": false,
    "run_control": {
     "read_only": false
    }
   },
   "outputs": [
    {
     "name": "stdout",
     "output_type": "stream",
     "text": [
      "0.75\n"
     ]
    }
   ],
   "source": [
    "p_acme, p_gen_prod = .50, .50\n",
    "broken_g_acme = .09\n",
    "acme_a_b = p_acme * broken_g_acme\n",
    "broken_g_g = .03\n",
    "g_a_b = p_gen_prod * broken_g_g\n",
    "\n",
    "total_prob_broken = acme_a_b + g_a_b\n",
    "\n",
    "p_acme_broke = (broken_g_acme * p_acme) / total_prob_broken\n",
    "print(p_acme_broke)\n"
   ]
  },
  {
   "cell_type": "code",
   "execution_count": null,
   "metadata": {},
   "outputs": [],
   "source": []
  },
  {
   "cell_type": "code",
   "execution_count": null,
   "metadata": {},
   "outputs": [],
   "source": []
  },
  {
   "cell_type": "code",
   "execution_count": null,
   "metadata": {},
   "outputs": [],
   "source": []
  },
  {
   "cell_type": "markdown",
   "metadata": {
    "button": false,
    "new_sheet": false,
    "run_control": {
     "read_only": false
    }
   },
   "source": [
    "```\n",
    "first, I established bayes thereom: p(b|a) = p(a|b) p(b) / p(a)\n",
    "Second, we know the toaster inventory is evenly split between ACME and General Products; Thus, 50/50 (.50, .50)\n",
    "Third, p(broken|*product) was given to us (.09) and .03.\n",
    "Calculated the p(acme AND broken) and p(g_prod AND broken) by multiplying events respectively acme(.5 * .09); g_prod(.5 * .03);\n",
    "Added each conditional probaility to find the total probaility of broken\n",
    "Finally, Since I am only interested in the p(acme|broken) I then onyl put together the required information to follow bayes thereom;\n",
    "p(acme|broken) = p(broken|acme)*p(acme)\\ p(broken)\n",
    "\n",
    "```"
   ]
  },
  {
   "cell_type": "markdown",
   "metadata": {
    "button": false,
    "new_sheet": false,
    "run_control": {
     "read_only": false
    }
   },
   "source": [
    "> 1b. You make changes to your inventory such that you now have 2 ACME toasters\n",
    "for every 3 toasters made by General Products. Using the same scenario as\n",
    "question 1, what is the probability that the toaster brought in by the customer was\n",
    "made by ACME?"
   ]
  },
  {
   "cell_type": "code",
   "execution_count": 36,
   "metadata": {
    "button": false,
    "new_sheet": false,
    "run_control": {
     "read_only": false
    }
   },
   "outputs": [
    {
     "name": "stdout",
     "output_type": "stream",
     "text": [
      "0.6666666666666667\n"
     ]
    }
   ],
   "source": [
    "# perform any calculations here\n",
    "# p (ACME | Broken)\n",
    "p_acme, p_gen_prod = .4, .6\n",
    "broken_g_acme = .09\n",
    "acme_a_b = p_acme * broken_g_acme\n",
    "broken_g_g = .03\n",
    "g_a_b = p_gen_prod * broken_g_g\n",
    "\n",
    "total_prob_broken = acme_a_b + g_a_b\n",
    "\n",
    "p_acme_broke = (broken_g_acme * p_acme) / total_prob_broken\n",
    "print(p_acme_broke)\n"
   ]
  },
  {
   "cell_type": "markdown",
   "metadata": {
    "button": false,
    "new_sheet": false,
    "run_control": {
     "read_only": false
    }
   },
   "source": [
    "```\n",
    "Looking at the ratio, For every 2 ACME produce, 3 g_prod are produced (2:3), Thats a total of 5 products so now I just find the probability. p(acme) = 2/5; p(g_prod) = 3/5.\n",
    "I then just copied and paste the same exact algorithm (could have been made in a function for reusablity) but changed the values of the p_acme and the p_gen_prod accorinding to what we just changed\n",
    "```"
   ]
  },
  {
   "cell_type": "markdown",
   "metadata": {
    "button": false,
    "new_sheet": false,
    "run_control": {
     "read_only": false
    }
   },
   "source": [
    "2. They say life is a box of chocolates. On Valentine’s day you get two boxes of chocolates,\n",
    "both made by the ACME corporation. The first box has 8 chocolates filled with Caramel,\n",
    "4 filled with Toothpaste, and 3 filled with Cream. The second box has 10 chocolates filled\n",
    "with Caramel, 2 filled with Toothpaste, 4 filled with Cream and 4 filled with Shaving\n",
    "Cream."
   ]
  },
  {
   "cell_type": "markdown",
   "metadata": {
    "button": false,
    "new_sheet": false,
    "run_control": {
     "read_only": false
    }
   },
   "source": [
    "> 2a. What is the probability that after you a pick a box at random, that you would get a\n",
    "nasty-filled chocolate (either filled with shaving cream or toothpaste)?"
   ]
  },
  {
   "cell_type": "code",
   "execution_count": 55,
   "metadata": {
    "button": false,
    "new_sheet": false,
    "run_control": {
     "read_only": false
    }
   },
   "outputs": [
    {
     "name": "stdout",
     "output_type": "stream",
     "text": [
      "second box probability:  0.3\n"
     ]
    }
   ],
   "source": [
    "# perform any calculations here\n",
    "import random\n",
    "first_box = {'carmel': 8, 'toothpaste': 4, 'cream': 3}\n",
    "second_box = {'caramel': 10, 'toothpaste': 2, 'cream': 4, 'shaving cream': 4}\n",
    "\n",
    "# prob at random p(shaving_cream OR toothpaste) -> shaving_cream + toothpaste - (shaving_cream * toothpaste)\n",
    "def nasty_fill(list_dict):\n",
    "    nasty_word = ['toothpaste', 'shaving cream']\n",
    "    d = None\n",
    "    p_nasty = 0\n",
    "    total = 0\n",
    "    sentence_str = ''        \n",
    "    if random.choice([1,2]) == 1:\n",
    "        d = list_dict[0]\n",
    "        sentence_str += 'first box probability: '\n",
    "    else:\n",
    "        d = list_dict[1]\n",
    "        sentence_str += 'second box probability: '\n",
    "    \n",
    "    # print(d)\n",
    "\n",
    "    for k, v in d.items():\n",
    "        if k in nasty_word:\n",
    "            p_nasty += v\n",
    "        total += v\n",
    "    # print(p_nasty, total)\n",
    "    \n",
    "    return f'{sentence_str} {p_nasty / total}'\n",
    "\n",
    "print(nasty_fill(list_dict=[first_box, second_box]))"
   ]
  },
  {
   "cell_type": "markdown",
   "metadata": {
    "button": false,
    "new_sheet": false,
    "run_control": {
     "read_only": false
    }
   },
   "source": [
    "```\n",
    "First I created a dictionary for each box with keys as the type of chocolate and the values as the count.\n",
    "Second, I created a function that takes a list a of dictionaries. However for ever in this example, it works best to only have two elements (two dictionaries) for the list.\n",
    "I then imported the random module to then use random.choice([1,2]) to choose between two numbers. (50/50 case probability; Like the situation called for)\n",
    "Used if statements and for loops that then filtered out which dictionary to calculate and to accumulate the count of the nasty chocolate type and total count of chocolates in the box (dictionary)\n",
    "Thus, return results\n",
    "```"
   ]
  },
  {
   "cell_type": "markdown",
   "metadata": {
    "button": false,
    "new_sheet": false,
    "run_control": {
     "read_only": false
    }
   },
   "source": [
    ">2b. You take a bite of one of the chocolates and it turns out to be Caramel (you lucky\n",
    "duck), what is probability that the chocolate came from the second box?"
   ]
  },
  {
   "cell_type": "code",
   "execution_count": 59,
   "metadata": {
    "button": false,
    "new_sheet": false,
    "run_control": {
     "read_only": false
    }
   },
   "outputs": [
    {
     "name": "stdout",
     "output_type": "stream",
     "text": [
      "0.5\n"
     ]
    }
   ],
   "source": [
    "# perform any calculations here\n",
    "second_box = {'caramel': 10, 'toothpaste': 2, 'cream': 4, 'shaving cream': 4}\n",
    "total = sum(second_box.values())\n",
    "print(second_box['caramel']/ total)\n"
   ]
  },
  {
   "cell_type": "markdown",
   "metadata": {
    "button": false,
    "new_sheet": false,
    "run_control": {
     "read_only": false
    }
   },
   "source": [
    "```\n",
    "Took my second_box dictionary, assigned total to the sum of the values and then printed the value of 'caramel' / total\n",
    "```"
   ]
  },
  {
   "cell_type": "markdown",
   "metadata": {
    "button": false,
    "new_sheet": false,
    "run_control": {
     "read_only": false
    }
   },
   "source": [
    "3. The Umbrella Corporation is developing a blood test to detect early-onset zombification.\n",
    "In their medical ward, their patients traditionally have a ⅓ chance of actually having the\n",
    "zombie virus. Through their experiments the Umbrella Corporation scientists have\n",
    "determined that their test has a specificity and sensitivity of 95% \n",
    "    * [Wikipedia Definition of Sensitivity and Specificity](https://en.wikipedia.org/wiki/Sensitivity_and_specificity)."
   ]
  },
  {
   "cell_type": "markdown",
   "metadata": {
    "button": false,
    "new_sheet": false,
    "run_control": {
     "read_only": false
    }
   },
   "source": [
    ">3a. If a patient tests positive, what is the chance that they actually have the zombie\n",
    "virus? Calculate the positive predictive value (PPV) of this test."
   ]
  },
  {
   "cell_type": "code",
   "execution_count": 61,
   "metadata": {
    "button": false,
    "new_sheet": false,
    "run_control": {
     "read_only": false
    }
   },
   "outputs": [
    {
     "name": "stdout",
     "output_type": "stream",
     "text": [
      "0.9047619047619047\n"
     ]
    }
   ],
   "source": [
    "# perform any calculations here\n",
    "# create bayes base rate fallacy algorithm\n",
    "# p(actual | sensitivity) = p(sensitivity|actual) P(actual) / p(total_sensitivity)\n",
    "def ppv(actual, sensitivity, specificity):\n",
    "    actual_sensitivity = actual * sensitivity\n",
    "    comp_actual_comp_specificity = (1 - actual) * (1 - specificity)\n",
    "    total_sensitivity = actual_sensitivity + comp_actual_comp_specificity\n",
    "    return (sensitivity * actual) / total_sensitivity\n",
    "\n",
    "print(ppv(actual=1/3, sensitivity=.95, specificity=.95))"
   ]
  },
  {
   "cell_type": "markdown",
   "metadata": {
    "button": false,
    "new_sheet": false,
    "run_control": {
     "read_only": false
    }
   },
   "source": [
    "```\n",
    "First, lets begin with some clarification:\n",
    "    sensitivity = True positive rate\n",
    "        1 - sensitivity = false negative\n",
    "    specificity = True Negative Rate\n",
    "        1 - specificity = false positive\n",
    "The following function follows bayes base rate fallacy algorithm:\n",
    "    p(actual | sensitivity) = p(sensitivity|actual) P(actual) / p(total_sensitivity)\n",
    "First find the p(actual and sensitivity) and the p(complement of actual and complement of specificity) # since we are only looking for testing positive\n",
    "With the two probalities above, we then add them up to get our total probability of sensitivity\n",
    "lastly return bayes base rate fallacy formula\n",
    "```"
   ]
  },
  {
   "cell_type": "markdown",
   "metadata": {
    "button": false,
    "new_sheet": false,
    "run_control": {
     "read_only": false
    }
   },
   "source": [
    ">3b. The Umbrella Corporation is unhappy with their current test and develops two\n",
    "new tests:\n",
    "\n",
    "|       metric      | Test A | Test B |\n",
    "|-------------|:------:|-------:|\n",
    "| Sensitivity |   97%  |    93% |\n",
    "| Specificity |   93%  |    97% |\n",
    "\n",
    "\n",
    "Which test is superior? Defend your decision. (Hint: you can’t tell just by looking\n",
    "at information above, you will need to do some calculations)"
   ]
  },
  {
   "cell_type": "code",
   "execution_count": 63,
   "metadata": {
    "button": false,
    "new_sheet": false,
    "run_control": {
     "read_only": false
    }
   },
   "outputs": [
    {
     "name": "stdout",
     "output_type": "stream",
     "text": [
      "0.8738738738738739\n",
      "0.9393939393939393\n"
     ]
    }
   ],
   "source": [
    "# perform any calculations here\n",
    "print(ppv(actual=1/3, sensitivity=.97, specificity=.93))\n",
    "print(ppv(actual=1/3, sensitivity=.93, specificity=.97))"
   ]
  },
  {
   "cell_type": "markdown",
   "metadata": {
    "button": false,
    "new_sheet": false,
    "run_control": {
     "read_only": false
    }
   },
   "source": [
    "```\n",
    "Based on the perfomance test using the ppv(), our results show that Test B is superior over Test A. This makes sense in this medical test because we have a higher likelhood of the population to not actually have the zombie virus and having a higher specificity rate gives doctors and patients more confidence in the test result accuracy. We can then imply that it is better to have greater specificity than sensitivity for the Zombie virus case.\n",
    "```"
   ]
  },
  {
   "cell_type": "markdown",
   "metadata": {
    "button": false,
    "new_sheet": false,
    "run_control": {
     "read_only": false
    }
   },
   "source": [
    "<hr>\n",
    "\n",
    "<hr>\n",
    "\n",
    "### SB:Q3 Probability Distributions\n",
    "* In this section, you will fill in markdown cells with responses to problems related to Probability Distributions.\n",
    "* You should perform any calculations using Python in the code cells immediately above the markdown cell.\n",
    "* For a survey of probability distributions, see [http://www.jbstatistics.com](http://www.jbstatistics.com)"
   ]
  },
  {
   "cell_type": "markdown",
   "metadata": {
    "button": false,
    "new_sheet": false,
    "run_control": {
     "read_only": false
    }
   },
   "source": [
    "<hr>\n",
    "\n",
    "#### a. Uniform Distribution"
   ]
  },
  {
   "cell_type": "markdown",
   "metadata": {
    "button": false,
    "new_sheet": false,
    "run_control": {
     "read_only": false
    }
   },
   "source": [
    "1. Let the random variable X be the angle of a slice of pizza. The angle X has a uniform distribution\n",
    "on the interval [0, 90]. What is the probability that your slice of pizza will have an angle between\n",
    "30° and 40°?\n"
   ]
  },
  {
   "cell_type": "code",
   "execution_count": 70,
   "metadata": {
    "button": false,
    "new_sheet": false,
    "run_control": {
     "read_only": false
    }
   },
   "outputs": [
    {
     "name": "stdout",
     "output_type": "stream",
     "text": [
      "0.11111111111111112\n"
     ]
    }
   ],
   "source": [
    "# perform any calculations here\n",
    "# area = (d-c)f(x)\n",
    "fx = 1/90\n",
    "area = (40 - 30)*fx\n",
    "print(area)"
   ]
  },
  {
   "cell_type": "code",
   "execution_count": null,
   "metadata": {},
   "outputs": [],
   "source": []
  },
  {
   "cell_type": "markdown",
   "metadata": {
    "button": false,
    "new_sheet": false,
    "run_control": {
     "read_only": false
    }
   },
   "source": [
    "```\n",
    "Uniform distribution:\n",
    "area = (d-c) * fx; where the area is the probability\n",
    "fx = 1 / (d-c)\n",
    "We first calculate the probability above; Area should be 1.\n",
    "We are then interested in the angle between 3o degrees and 40 degrees. So we do 40 - 30 = 10\n",
    "same equations, we are trying to solve the area; area = (40 - 30) (1/90)\n",
    "```"
   ]
  },
  {
   "cell_type": "markdown",
   "metadata": {
    "button": false,
    "new_sheet": false,
    "run_control": {
     "read_only": false
    }
   },
   "source": [
    "2. X is uniform on the interval [a,b], can you derive the expected value E(X)? The variance V(X)?"
   ]
  },
  {
   "cell_type": "code",
   "execution_count": 188,
   "metadata": {
    "button": false,
    "collapsed": true,
    "new_sheet": false,
    "run_control": {
     "read_only": false
    }
   },
   "outputs": [],
   "source": [
    "# perform any calculations here\n"
   ]
  },
  {
   "cell_type": "markdown",
   "metadata": {
    "button": false,
    "new_sheet": false,
    "run_control": {
     "read_only": false
    }
   },
   "source": [
    "```\n",
    "Yes you can, if x is uniform, then the probability density function is constant over the possible values of x given that x will be in between [a,b]\n",
    "For variance = 1/12(d-c)**2\n",
    "```"
   ]
  },
  {
   "cell_type": "markdown",
   "metadata": {
    "button": false,
    "new_sheet": false,
    "run_control": {
     "read_only": false
    }
   },
   "source": [
    "<hr>\n",
    "\n",
    "#### b. Geometric Distributions\n",
    "Suppose you have an unfair coin, with a 68% chance of getting tails. What is the probability that the first\n",
    "head will be on the 3rd trial?"
   ]
  },
  {
   "cell_type": "code",
   "execution_count": 73,
   "metadata": {
    "button": false,
    "new_sheet": false,
    "run_control": {
     "read_only": false
    }
   },
   "outputs": [
    {
     "name": "stdout",
     "output_type": "stream",
     "text": [
      "0.14796800000000002\n"
     ]
    }
   ],
   "source": [
    "# perform any calculations here\n",
    "# probaility mass function = p(X = x) = (1 - p)** x - 1 * p\n",
    "tails = .68\n",
    "heads = 1 - tails\n",
    "def pmf(p, k):\n",
    "    return (1 - p)**(k-1)*p\n",
    "print(pmf(heads, 3))"
   ]
  },
  {
   "cell_type": "markdown",
   "metadata": {
    "button": false,
    "new_sheet": false,
    "run_control": {
     "read_only": false
    }
   },
   "source": [
    "```\n",
    "Geometric distribution bc we want the probs of the first success of  a burnoulli trial.\n",
    "This falls in line with the probablilty mass function:\n",
    "    p(X = x) = (1-p)**x-1 * p\n",
    "since tails probs was given and we want the probs for heads, simply the complement of tails = heads\n",
    "Our functions returns the probability mass function\n",
    "```"
   ]
  },
  {
   "cell_type": "markdown",
   "metadata": {
    "button": false,
    "new_sheet": false,
    "run_control": {
     "read_only": false
    }
   },
   "source": [
    "<hr>\n",
    "\n",
    "#### c. Poisson Distribution\n",
    "On average 20 taxis drive past your office every 30 minutes. What is the probability that 30 taxis will drive\n",
    "by in 1 hour?"
   ]
  },
  {
   "cell_type": "code",
   "execution_count": 75,
   "metadata": {
    "button": false,
    "new_sheet": false,
    "run_control": {
     "read_only": false
    }
   },
   "outputs": [
    {
     "name": "stdout",
     "output_type": "stream",
     "text": [
      "0.01846547096073411\n"
     ]
    }
   ],
   "source": [
    "# perform any calculations here\n",
    "import math\n",
    "lamb = 20 * 2\n",
    "def poisson_distr(lamb, k):\n",
    "    return (e**-lamb * lamb**k) / math.factorial(k)\n",
    "print(poisson_distr(lamb, k=30))"
   ]
  },
  {
   "cell_type": "markdown",
   "metadata": {
    "button": false,
    "new_sheet": false,
    "run_control": {
     "read_only": false
    }
   },
   "source": [
    "```\n",
    "Poisson distribution is the probability count of occurences in a given unit of time.\n",
    "We first defined lambda from the question. Our avg count is 20 and we multiply it with 2 because our incraments are 30 min intervals and since we are interested in the probs of 30 count in 1 hour (two 30 min intervals) w e then do: lambda = 20 * 2\n",
    "The poisson distribution algorithm is: e**-lambda * lambda**k / k!\n",
    "Our function poisson_distr() then returns the algorithm\n",
    "```"
   ]
  },
  {
   "cell_type": "markdown",
   "metadata": {
    "button": false,
    "new_sheet": false,
    "run_control": {
     "read_only": false
    }
   },
   "source": [
    "<hr>\n",
    "\n",
    "#### d. Binomial Distribution"
   ]
  },
  {
   "cell_type": "markdown",
   "metadata": {
    "button": false,
    "new_sheet": false,
    "run_control": {
     "read_only": false
    }
   },
   "source": [
    "1. Fair coin: Imagine you were to flip a fair coin 10 times. What would be the probability of getting 5\n",
    "heads?"
   ]
  },
  {
   "cell_type": "code",
   "execution_count": 82,
   "metadata": {
    "button": false,
    "new_sheet": false,
    "run_control": {
     "read_only": false
    }
   },
   "outputs": [
    {
     "name": "stdout",
     "output_type": "stream",
     "text": [
      "0.24609375\n"
     ]
    }
   ],
   "source": [
    "# perform any calculations here\n",
    "\n",
    "heads = .5\n",
    "def binom_distr(n, x, p):\n",
    "    return (math.factorial(n) / (math.factorial(n-x)*math.factorial(x))) * (p**x *(1-p)**(n-x))\n",
    "\n",
    "print(binom_distr(10, 5, heads))"
   ]
  },
  {
   "cell_type": "markdown",
   "metadata": {
    "button": false,
    "new_sheet": false,
    "run_control": {
     "read_only": false
    }
   },
   "source": [
    "```\n",
    "Since its a fair coin. heads = .5\n",
    "binomial distribution formula = p(x) = n!/(n-r)!r! * p**x * (1 - p)** (n-x)\n",
    "Our functions takes three parameters: n=trials, x=count of event occuring, p=probability of event to occur once\n",
    "```"
   ]
  },
  {
   "cell_type": "markdown",
   "metadata": {
    "button": false,
    "new_sheet": false,
    "run_control": {
     "read_only": false
    }
   },
   "source": [
    "2. Unfair coin: You have a coin with which you are 2 times more likely to get heads than tails. You\n",
    "flip the coin 100 times. What is the probability of getting 20 tails? What is the probability of getting\n",
    "at least one heads?"
   ]
  },
  {
   "cell_type": "code",
   "execution_count": 97,
   "metadata": {
    "button": false,
    "new_sheet": false,
    "run_control": {
     "read_only": false
    }
   },
   "outputs": [
    {
     "name": "stdout",
     "output_type": "stream",
     "text": [
      "Probs of getting 20 tails: 0.0012572611518734968\n",
      "Probs of getting at least one head: 1.0000000000000002\n"
     ]
    }
   ],
   "source": [
    "# perform any calculations here\n",
    "heads = 2/3\n",
    "tails = 1 - heads\n",
    "twenty_tails = binom_distr(100, 20, tails)\n",
    "one_head = binom_distr(100, 1, heads)\n",
    "\n",
    "for num in range(2,100+1):\n",
    "    one_head += binom_distr(100, num, heads)\n",
    "print(f'Probs of getting 20 tails: {twenty_tails}\\nProbs of getting at least one head: {one_head}')\n"
   ]
  },
  {
   "cell_type": "markdown",
   "metadata": {
    "button": false,
    "new_sheet": false,
    "run_control": {
     "read_only": false
    }
   },
   "source": [
    "```\n",
    "If the fixed coin has the probs of getting heads 2 times more likely than tails; if we think about it. for every 1 tail I will have 2 heads. Thats a total count of 3 and thus heads = 1/3 and tails = 2/3.\n",
    "We than use the binom_distr() to calculate the probs of getting 20 tails. For the probs of getting at least one head is more complicated. Think about it like this: p(heads >= 1) I have to add the p(head=1) + p(head=2) + ... + p(head=100) up to the last count. Thus, I used a for loop to have the one_head accumulate the probability.\n",
    "```"
   ]
  },
  {
   "cell_type": "markdown",
   "metadata": {
    "button": false,
    "new_sheet": false,
    "run_control": {
     "read_only": false
    }
   },
   "source": [
    "<hr>\n",
    "\n",
    "#### e. Normal Distribution"
   ]
  },
  {
   "cell_type": "markdown",
   "metadata": {
    "button": false,
    "new_sheet": false,
    "run_control": {
     "read_only": false
    }
   },
   "source": [
    "1. Suppose X has a standard normal distribution (Mean = 0, Std. Dev. = 1). Compute P (X > 9), P (1\n",
    "< X < 3) and P (X > −3)."
   ]
  },
  {
   "cell_type": "code",
   "execution_count": 129,
   "metadata": {
    "button": false,
    "new_sheet": false,
    "run_control": {
     "read_only": false
    }
   },
   "outputs": [
    {
     "name": "stdout",
     "output_type": "stream",
     "text": [
      "0.0\n",
      "0.15730535589982697\n",
      "0.9986501019683699\n"
     ]
    }
   ],
   "source": [
    "import scipy.stats as st\n",
    "def normal_z(x, mean=0, std=1):\n",
    "    '''\n",
    "    Returns the zed: How many standard deviations away from the mean is random variable x\n",
    "    '''\n",
    "    return (x - mean) / std\n",
    "\n",
    "p_9 = 1 - st.norm.cdf(normal_z(9))\n",
    "print(p_9)\n",
    "\n",
    "p_1 = st.norm.cdf(normal_z(1))\n",
    "p_3 = 1 - st.norm.cdf(normal_z(3))\n",
    "\n",
    "p_1_3 = 1 - (p_1 + p_3)\n",
    "print(p_1_3)\n",
    "\n",
    "p_neg3 = 1 - st.norm.cdf(normal_z(-3))\n",
    "print(p_neg3)\n",
    "\n"
   ]
  },
  {
   "cell_type": "markdown",
   "metadata": {
    "button": false,
    "new_sheet": false,
    "run_control": {
     "read_only": false
    }
   },
   "source": [
    "```\n",
    "What the function normal_z() is doing is that it is find zed: How many standard deviations is random variable x away from the mean.\n",
    "In order to find its area, you need a z-score table (left/right tail based) which ever works best for the given scenario. In this case however, the zed is so large that I went and tested it using the scipy.stat.norm.cdf() to find the area under the pdf.\n",
    "I passed the function inside the .cdf() but also know that you need the actual value not the zed. But since our question states, the mean and std is 0, 1 respectively, The zed is in fact the actual value so it passed for this question.\n",
    "```"
   ]
  },
  {
   "cell_type": "markdown",
   "metadata": {
    "button": false,
    "new_sheet": false,
    "run_control": {
     "read_only": false
    }
   },
   "source": [
    "2. The weight in pounds of individuals in a population of interest has a normal distribution, with a\n",
    "mean of 150 and a standard deviation of 40. What is the expected range of values that describe\n",
    "the weight of 68% of the population (Hint: use the empirical rule)? Of the people who weigh more\n",
    "than 170 pounds, what percent weigh more than 200 pounds? (Hint: this is conditional probability)"
   ]
  },
  {
   "cell_type": "code",
   "execution_count": 145,
   "metadata": {
    "button": false,
    "new_sheet": false,
    "run_control": {
     "read_only": false
    }
   },
   "outputs": [
    {
     "name": "stdout",
     "output_type": "stream",
     "text": [
      "110.0 - 190.0\n",
      "0.6914624612740131\n",
      "0.10564977366685535\n",
      "0.6575788667301089\n"
     ]
    }
   ],
   "source": [
    "# perform any calculations here\n",
    "# emerical rule: 1std +- = 68%; 2std +- = 95%; 3std += = 99.7%\n",
    "# z-score tables help out\n",
    "def z_score_value(z, mean, std):\n",
    "    return z*std + mean\n",
    "\n",
    "one_std_above = z_score_value(1.0, 150, 40)\n",
    "one_std_below = z_score_value(-1.0, 150, 40)\n",
    "print(f'{one_std_below} - {one_std_above}')\n",
    "\n",
    "# p(x > 200 | x > 170)\n",
    "\n",
    "above_170 = 1 - st.norm(150, 40).cdf(170)\n",
    "print(1 - above_170)\n",
    "\n",
    "above_200 = 1 - st.norm(150, 40).cdf(200)\n",
    "print(above_200)\n",
    "\n",
    "difference_val = above_170 - above_200\n",
    "print(difference_val / above_170)"
   ]
  },
  {
   "cell_type": "markdown",
   "metadata": {
    "button": false,
    "new_sheet": false,
    "run_control": {
     "read_only": false
    }
   },
   "source": [
    "```\n",
    "we know that zed = x - mean / std but since we don't know x, we change our formula to x = zed*std + mean;\n",
    "We then can create a function z_score_value() that returns the formula.\n",
    "We used the z_score_value() to get the range of values that lie within 68% of the population.\n",
    "\n",
    "For the second question: Of the people who weigh more than 170 pounds, what percent weigh more than 200 pounds?\n",
    "We can think of it like: p(x > 200 | x > 170)\n",
    "So I then used the st.norm.cdf()\n",
    "norm takes a mean value and a std value and transforms it to a normal distribution.\n",
    "cdf gives us the area under the pdf.\n",
    "So I then find the complement for each random variable x (170, 200)\n",
    "From there since we are looking for Of the people who weigh more than 170 pounds, what percent weigh more than 200 pounds, I first found that difference value from the areas we got for 170 and 200.\n",
    "Lastly, the difference value is then divided over the total area of 170\n",
    "This then is our percentage that answers p(x > 200 | x > 170).\n",
    "```"
   ]
  },
  {
   "cell_type": "markdown",
   "metadata": {
    "button": false,
    "new_sheet": false,
    "run_control": {
     "read_only": false
    }
   },
   "source": [
    "<hr>\n",
    "\n",
    "#### f. Exponential Distribution"
   ]
  },
  {
   "cell_type": "markdown",
   "metadata": {
    "button": false,
    "new_sheet": false,
    "run_control": {
     "read_only": false
    }
   },
   "source": [
    "1. Let X, the number of years a computer works, be a random variable that follows an exponential\n",
    "distribution with a lambda of 3 years. You just bought a computer, what is the probability that the\n",
    "computer will work in 8 years?"
   ]
  },
  {
   "cell_type": "code",
   "execution_count": 147,
   "metadata": {
    "button": false,
    "new_sheet": false,
    "run_control": {
     "read_only": false
    }
   },
   "outputs": [
    {
     "name": "stdout",
     "output_type": "stream",
     "text": [
      "1.1325403632837307e-10\n"
     ]
    }
   ],
   "source": [
    "# perform any calculations here\n",
    "# p(x = 8)\n",
    "# exponential_pdf = lambda*e**-lambda*x if x >= 0; 0 if x < 0\n",
    "def exponential_pdf(x, lamb):\n",
    "    if x >= 0:\n",
    "        return lamb*e**(-lamb*x)\n",
    "    else:\n",
    "        return 0\n",
    "print(exponential_pdf(8, 3))"
   ]
  },
  {
   "cell_type": "code",
   "execution_count": null,
   "metadata": {},
   "outputs": [],
   "source": []
  },
  {
   "cell_type": "markdown",
   "metadata": {
    "button": false,
    "new_sheet": false,
    "run_control": {
     "read_only": false
    }
   },
   "source": [
    "```\n",
    "exponential_pdf = lambda*e**-lambda*x if x >= 0; 0 if x < 0\n",
    "I then created the function exponential_pdf() where it takes the parameters: x (number of time), lamda(rate parameter)\n",
    "From the exponential_pdf() above, we can conclude that the probability that the computer will work in 8 years is 1.1325403632837307e-10. Thus, we have a much greater chance of the computer not working in 8 years\n",
    "\n",
    "\n",
    "```"
   ]
  },
  {
   "cell_type": "markdown",
   "metadata": {
    "button": false,
    "new_sheet": false,
    "run_control": {
     "read_only": false
    }
   },
   "source": [
    "2. Let X be a random variable that now follows an exponential distribution with a half-life of 6 years.\n",
    "Find the parameter of the exponential distribution and the probability P(X > 10)."
   ]
  },
  {
   "cell_type": "code",
   "execution_count": 157,
   "metadata": {
    "button": false,
    "new_sheet": false,
    "run_control": {
     "read_only": false
    }
   },
   "outputs": [
    {
     "name": "stdout",
     "output_type": "stream",
     "text": [
      "0.11552453009332421\n",
      "0.31498026247371835\n"
     ]
    }
   ],
   "source": [
    "# perform any calculations here\n",
    "# t = half-life; T = mean lifetime\n",
    "# t = ln(n) / lambda\n",
    "t = 6\n",
    "lamb = math.log(2) / t\n",
    "print(lamb)\n",
    "\n",
    "\n",
    "def exponential_cdf(lamb, x):\n",
    "    if x >= 0:\n",
    "        return 1 - e**(-lamb*x)\n",
    "    else:\n",
    "        return 0\n",
    "\n",
    "print(1 - exponential_cdf(lamb, 10))"
   ]
  },
  {
   "cell_type": "markdown",
   "metadata": {
    "button": false,
    "new_sheet": false,
    "run_control": {
     "read_only": false
    }
   },
   "source": [
    "```\n",
    "the formula for the half-life in exponential decay: t = ln(2)/ lambda;\n",
    "Since we are given our half-life value of 6 and the question is asking for the parameter of the exponetial distribution that answers the probability P(X > 10): To find the parameter, we change the half-life formula to: lambda = ln(2) / t and got 0.11552453009332421.\n",
    "From there I then used the exponential cumulative distribution formula whihc give us the p(X <= x) but since we are looking for p(X>10) we then find the complement of the cdf formula = 1 - (1 - e**(-lambda*x)).\n",
    "So our question, what is the p(x >10) = to .3149 given that it is an exponetial distribtion. This tells us that random variable X has a .3149 chance of having life past 10 years.\n",
    "```"
   ]
  },
  {
   "cell_type": "markdown",
   "metadata": {
    "button": false,
    "new_sheet": false,
    "run_control": {
     "read_only": false
    }
   },
   "source": [
    "3. What is the conditional probability P (X > 20 | X > 10)?"
   ]
  },
  {
   "cell_type": "code",
   "execution_count": 158,
   "metadata": {
    "button": false,
    "new_sheet": false,
    "run_control": {
     "read_only": false
    }
   },
   "outputs": [
    {
     "name": "stdout",
     "output_type": "stream",
     "text": [
      "0.09921256574801252\n"
     ]
    }
   ],
   "source": [
    "# perform any calculations here\n",
    "# exponetial distribution events are independent\n",
    "print(1 - exponential_cdf(lamb, 20))"
   ]
  },
  {
   "cell_type": "markdown",
   "metadata": {
    "button": false,
    "new_sheet": false,
    "run_control": {
     "read_only": false
    }
   },
   "source": [
    "```\n",
    "Expontial distribution events are independent from each other so the fact that random variable X surpass 10 years, does not change the probability of x surpassing 20 years, therefore we can find the complement of the exponetial cdf. Thus, the conditional probability P (X > 20 | X > 10) = 0.09921256574801252. The odds our against our favor accoriding to results.\n",
    "```"
   ]
  },
  {
   "cell_type": "markdown",
   "metadata": {
    "button": false,
    "new_sheet": false,
    "run_control": {
     "read_only": false
    }
   },
   "source": [
    "# Fin"
   ]
  }
 ],
 "metadata": {
  "kernelspec": {
   "display_name": "Python 3",
   "language": "python",
   "name": "python3"
  },
  "language_info": {
   "codemirror_mode": {
    "name": "ipython",
    "version": 3
   },
   "file_extension": ".py",
   "mimetype": "text/x-python",
   "name": "python",
   "nbconvert_exporter": "python",
   "pygments_lexer": "ipython3",
   "version": "3.7.3"
  }
 },
 "nbformat": 4,
 "nbformat_minor": 2
}
